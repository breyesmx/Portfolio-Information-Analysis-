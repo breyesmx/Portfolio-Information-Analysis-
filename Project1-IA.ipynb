{
 "cells": [
  {
   "cell_type": "code",
   "execution_count": null,
   "id": "d9fc8e73",
   "metadata": {},
   "outputs": [],
   "source": [
    "#Creating a porfolio of Data Analyis "
   ]
  },
  {
   "cell_type": "code",
   "execution_count": null,
   "id": "20f2694d",
   "metadata": {},
   "outputs": [],
   "source": []
  }
 ],
 "metadata": {
  "kernelspec": {
   "display_name": "base",
   "language": "python",
   "name": "python3"
  },
  "language_info": {
   "name": "python",
   "version": "3.13.5"
  }
 },
 "nbformat": 4,
 "nbformat_minor": 5
}
